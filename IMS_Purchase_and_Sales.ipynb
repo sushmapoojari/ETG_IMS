{
  "nbformat": 4,
  "nbformat_minor": 0,
  "metadata": {
    "colab": {
      "name": "IMS_Purchase_and_Sales.ipynb",
      "provenance": [],
      "collapsed_sections": []
    },
    "kernelspec": {
      "name": "python3",
      "display_name": "Python 3"
    },
    "language_info": {
      "name": "python"
    }
  },
  "cells": [
    {
      "cell_type": "markdown",
      "metadata": {
        "id": "Utj-kf4f8mPi"
      },
      "source": [
        "## **------------SUPERMARKET INVENTORY MANAGEMENT SYSTEM------------**"
      ]
    },
    {
      "cell_type": "markdown",
      "metadata": {
        "id": "psCmXderQP4G"
      },
      "source": [
        "# **Read Inventory**"
      ]
    },
    {
      "cell_type": "code",
      "metadata": {
        "id": "2s5VSN0VQ9A7",
        "colab": {
          "base_uri": "https://localhost:8080/"
        },
        "outputId": "0602e321-0a6d-4585-aa50-0a1c158c8dce"
      },
      "source": [
        "import json\n",
        "fd = open(\"upd_records.json\",'r')\n",
        "prod_details = fd.read()\n",
        "fd.close()\n",
        "\n",
        "rec_dict = json.loads(prod_details)  # json to dict\n",
        "rec_dict\n"
      ],
      "execution_count": 108,
      "outputs": [
        {
          "output_type": "execute_result",
          "data": {
            "text/plain": [
              "{'1001': {'category': 'Toiletries',\n",
              "  'expDate': '01/01/2020',\n",
              "  'mfdDate': '01/06/2019',\n",
              "  'name': 'Soap',\n",
              "  'price': 100,\n",
              "  'quantity': 50},\n",
              " '1002': {'category': 'Cereal',\n",
              "  'expDate': '01/06/2020',\n",
              "  'mfdDate': '01/04/2020',\n",
              "  'name': 'Cereals',\n",
              "  'price': 800,\n",
              "  'quantity': 50},\n",
              " '1003': {'category': 'Toiletries',\n",
              "  'expDate': '01/08/2021',\n",
              "  'mfdDate': '01/02/2021',\n",
              "  'name': 'Toothbrush',\n",
              "  'price': 35,\n",
              "  'quantity': 100},\n",
              " '1004': {'category': 'Toiletries',\n",
              "  'expDate': '01/09/2021',\n",
              "  'mfdDate': '01/05/2021',\n",
              "  'name': 'Toothpaste',\n",
              "  'price': 55,\n",
              "  'quantity': 80},\n",
              " '1005': {'category': 'Toiletries',\n",
              "  'expDate': '01/10/2022',\n",
              "  'mfdDate': '01/10/2021',\n",
              "  'name': 'Handwash',\n",
              "  'price': 80,\n",
              "  'quantity': 100},\n",
              " '1006': {'category': 'Snacks',\n",
              "  'expDate': '01/01/2022',\n",
              "  'mfdDate': '01/12/2021',\n",
              "  'name': 'Chocolates',\n",
              "  'price': 500,\n",
              "  'quantity': 300},\n",
              " '1007': {'category': 'Condiments',\n",
              "  'expDate': '01/07/2021',\n",
              "  'mfdDate': '01/07/2019',\n",
              "  'name': 'Rice',\n",
              "  'price': 430,\n",
              "  'quantity': 1000},\n",
              " '1008': {'category': 'Condiments',\n",
              "  'expDate': '01/11/2021',\n",
              "  'mfdDate': '01/11/2020',\n",
              "  'name': 'Oil',\n",
              "  'price': 250,\n",
              "  'quantity': 580},\n",
              " '1009': {'category': 'Toiletries',\n",
              "  'expDate': '01/04/2022',\n",
              "  'mfdDate': '01/03/2020',\n",
              "  'name': 'Perfumes',\n",
              "  'price': 499,\n",
              "  'quantity': 80},\n",
              " '1010': {'category': 'Condiments',\n",
              "  'expDate': '01/12/2021',\n",
              "  'mfdDate': '01/08/2021',\n",
              "  'name': 'Sugar',\n",
              "  'price': 80,\n",
              "  'quantity': 700},\n",
              " '1011': {'category': 'Condiments',\n",
              "  'expDate': '01/10/2021',\n",
              "  'mfdDate': '01/05/2021',\n",
              "  'name': 'Salt',\n",
              "  'price': 75,\n",
              "  'quantity': 800},\n",
              " '1012': {'category': 'Bakery',\n",
              "  'expDate': '10/09/2021',\n",
              "  'mfdDate': '01/09/2021',\n",
              "  'name': 'Bread',\n",
              "  'price': 60,\n",
              "  'quantity': 30},\n",
              " '1013': {'category': 'Dairy',\n",
              "  'expDate': '01/03/2022',\n",
              "  'mfdDate': '01/12/2021',\n",
              "  'name': 'Butter',\n",
              "  'price': 230,\n",
              "  'quantity': 70},\n",
              " '1014': {'category': 'Dairy',\n",
              "  'expDate': '01/07/2021',\n",
              "  'mfdDate': '01/04/2021',\n",
              "  'name': 'Cheese',\n",
              "  'price': 250,\n",
              "  'quantity': 80},\n",
              " '1015': {'category': 'Condiments',\n",
              "  'expDate': '01/02/2021',\n",
              "  'mfdDate': '01/02/2020',\n",
              "  'name': 'Spices',\n",
              "  'price': 599,\n",
              "  'quantity': 420},\n",
              " '1016': {'category': 'Dairy',\n",
              "  'expDate': '08/09/2021',\n",
              "  'mfdDate': '06/09/2021',\n",
              "  'name': 'Milk',\n",
              "  'price': 55,\n",
              "  'quantity': 250},\n",
              " '1017': {'category': 'Condiments',\n",
              "  'expDate': '01/10/2021',\n",
              "  'mfdDate': '01/04/2021',\n",
              "  'name': 'Ketchup',\n",
              "  'price': 195,\n",
              "  'quantity': 70},\n",
              " '1018': {'category': 'Condiments',\n",
              "  'expDate': '01/06/2021',\n",
              "  'mfdDate': '01/05/2021',\n",
              "  'name': 'Sauce',\n",
              "  'price': 145,\n",
              "  'quantity': 70},\n",
              " '1019': {'category': 'Toiletries',\n",
              "  'expDate': '01/12/2020',\n",
              "  'mfdDate': '01/08/2019',\n",
              "  'name': 'Detergent',\n",
              "  'price': 75,\n",
              "  'quantity': 45},\n",
              " '1020': {'category': 'Snacks',\n",
              "  'expDate': '01/10/2021',\n",
              "  'mfdDate': '01/09/2021',\n",
              "  'name': 'Cookies',\n",
              "  'price': 459,\n",
              "  'quantity': 60},\n",
              " '1021': {'category': 'Other',\n",
              "  'expDate': '01/03/2022',\n",
              "  'mfdDate': '01/03/2021',\n",
              "  'name': 'Tea Powder',\n",
              "  'price': 199,\n",
              "  'quantity': 500},\n",
              " '1022': {'category': 'Other',\n",
              "  'expDate': '01/02/2022',\n",
              "  'mfdDate': '01/03/2021',\n",
              "  'name': 'Coffee Powder',\n",
              "  'price': 199,\n",
              "  'quantity': 500},\n",
              " '1023': {'category': 'Dairy',\n",
              "  'expDate': '01/10/2022',\n",
              "  'mfdDate': '01/09/2021',\n",
              "  'name': 'Yogurt',\n",
              "  'price': 95,\n",
              "  'quantity': 40},\n",
              " '1024': {'category': 'Toiletries',\n",
              "  'expDate': '01/01/2023',\n",
              "  'mfdDate': '01/01/2021',\n",
              "  'name': 'Tissues',\n",
              "  'price': 99,\n",
              "  'quantity': 400},\n",
              " '1025': {'category': 'Other',\n",
              "  'expDate': '01/12/2021',\n",
              "  'mfdDate': '01/04/2021',\n",
              "  'name': 'Jam',\n",
              "  'price': 350,\n",
              "  'quantity': 50},\n",
              " '1026': {'category': 'Dairy',\n",
              "  'expDate': '10/08/2021',\n",
              "  'mfdDate': '01/08/2021',\n",
              "  'name': 'Eggs',\n",
              "  'price': 75,\n",
              "  'quantity': 500},\n",
              " '1027': {'category': 'Drinks',\n",
              "  'expDate': '01/10/2021',\n",
              "  'mfdDate': '01/08/2021',\n",
              "  'name': 'Juice',\n",
              "  'price': 190,\n",
              "  'quantity': 40},\n",
              " '1028': {'category': 'Drinks',\n",
              "  'expDate': '01/10/2021',\n",
              "  'mfdDate': '01/08/2021',\n",
              "  'name': 'Soda',\n",
              "  'price': 55,\n",
              "  'quantity': 37},\n",
              " '1029': {'category': 'Drinks',\n",
              "  'expDate': '01/10/2021',\n",
              "  'mfdDate': '01/08/2021',\n",
              "  'name': 'Cold Drinks',\n",
              "  'price': 190,\n",
              "  'quantity': 102},\n",
              " '1030': {'category': 'Condiments',\n",
              "  'expDate': '01/11/2021',\n",
              "  'mfdDate': '01/07/2019',\n",
              "  'name': 'Flour',\n",
              "  'price': 230,\n",
              "  'quantity': 850},\n",
              " '1031': {'category': 'Condiments',\n",
              "  'expDate': '06/11/2021',\n",
              "  'mfdDate': '18/12/2020',\n",
              "  'name': 'Vinegar',\n",
              "  'price': 49,\n",
              "  'quantity': 70},\n",
              " '1032': {'category': 'Snacks',\n",
              "  'expDate': '11/12/2022',\n",
              "  'mfdDate': '06/05/202',\n",
              "  'name': 'Pasta',\n",
              "  'price': 50,\n",
              "  'quantity': 60}}"
            ]
          },
          "metadata": {},
          "execution_count": 108
        }
      ]
    },
    {
      "cell_type": "markdown",
      "metadata": {
        "id": "YAHwIeqSQ7Zl"
      },
      "source": [
        "# **Purchasing the Product**"
      ]
    },
    {
      "cell_type": "code",
      "metadata": {
        "id": "L7a7nJ56mLVX"
      },
      "source": [
        "#40 <= rec_dict['1031']['quantity']\n"
      ],
      "execution_count": null,
      "outputs": []
    },
    {
      "cell_type": "code",
      "metadata": {
        "id": "oa2REousRE4k",
        "colab": {
          "base_uri": "https://localhost:8080/"
        },
        "outputId": "5388fdd8-a24a-4875-9579-fb6346b264db"
      },
      "source": [
        "import time\n",
        "curr_time = time.ctime()\n",
        "\n",
        "u_pid  = str(input(\"Enter the product id: \"))\n",
        "\n",
        "if u_pid in rec_dict:\n",
        "  u_quant = int(input(\"Enter the product quantity: \"))\n",
        "  if (u_quant <= rec_dict[u_pid]['quantity']):\n",
        "    print(\"-----------------------------------------------------------------------------------------------\")\n",
        "    print(\"***************************** Billing Receipt *****************************\")\n",
        "    print(\"Date: \", curr_time)\n",
        "    print(\"Product: \", rec_dict[u_pid]['name'])\n",
        "    print(\"Price: \", rec_dict[u_pid]['price'])\n",
        "    print(\"Quantity: \", u_quant)\n",
        "    print(\"Total Amount: \", rec_dict[u_pid]['price'] * u_quant)\n",
        "    rec_dict[u_pid]['quantity'] = rec_dict[u_pid]['quantity'] - u_quant\n",
        "    print(\"************************** Thank You, Visit Again!! ***********************\")\n",
        "    print(\"-----------------------------------------------------------------------------------------------\")\n",
        "\n",
        "  else:\n",
        "    print(\"SORRY, Product Id \" + u_pid + \"(\" + rec_dict[u_pid]['name'] + \") is Out of Stock!!\")\n",
        "    print(\"Remaining Stock of \" + u_pid + \"(\" + rec_dict[u_pid]['name'] + \"): \" ,  rec_dict[u_pid]['quantity'])\n",
        "\n",
        "else:\n",
        "    print(\"Product Not Found!! Enter the valid Product Id!\")\n"
      ],
      "execution_count": 122,
      "outputs": [
        {
          "output_type": "stream",
          "name": "stdout",
          "text": [
            "Enter the product id: 1013\n",
            "Enter the product quantity: 5\n",
            "-----------------------------------------------------------------------------------------------\n",
            "***************************** Billing Receipt *****************************\n",
            "Date:  Mon Sep  6 16:40:13 2021\n",
            "Product:  Butter\n",
            "Price:  230\n",
            "Quantity:  5\n",
            "Total Amount:  1150\n",
            "************************** Thank You, Visit Again!! ***********************\n",
            "-----------------------------------------------------------------------------------------------\n"
          ]
        }
      ]
    },
    {
      "cell_type": "code",
      "metadata": {
        "colab": {
          "base_uri": "https://localhost:8080/"
        },
        "id": "dBB6HRO5l9AD",
        "outputId": "ae436f43-486f-48bb-891d-5a2467621694"
      },
      "source": [
        "rec_dict"
      ],
      "execution_count": 123,
      "outputs": [
        {
          "output_type": "execute_result",
          "data": {
            "text/plain": [
              "{'1001': {'category': 'Toiletries',\n",
              "  'expDate': '01/01/2020',\n",
              "  'mfdDate': '01/06/2019',\n",
              "  'name': 'Soap',\n",
              "  'price': 100,\n",
              "  'quantity': 50},\n",
              " '1002': {'category': 'Cereal',\n",
              "  'expDate': '01/06/2020',\n",
              "  'mfdDate': '01/04/2020',\n",
              "  'name': 'Cereals',\n",
              "  'price': 800,\n",
              "  'quantity': 50},\n",
              " '1003': {'category': 'Toiletries',\n",
              "  'expDate': '01/08/2021',\n",
              "  'mfdDate': '01/02/2021',\n",
              "  'name': 'Toothbrush',\n",
              "  'price': 35,\n",
              "  'quantity': 100},\n",
              " '1004': {'category': 'Toiletries',\n",
              "  'expDate': '01/09/2021',\n",
              "  'mfdDate': '01/05/2021',\n",
              "  'name': 'Toothpaste',\n",
              "  'price': 55,\n",
              "  'quantity': 80},\n",
              " '1005': {'category': 'Toiletries',\n",
              "  'expDate': '01/10/2022',\n",
              "  'mfdDate': '01/10/2021',\n",
              "  'name': 'Handwash',\n",
              "  'price': 80,\n",
              "  'quantity': 100},\n",
              " '1006': {'category': 'Snacks',\n",
              "  'expDate': '01/01/2022',\n",
              "  'mfdDate': '01/12/2021',\n",
              "  'name': 'Chocolates',\n",
              "  'price': 500,\n",
              "  'quantity': 255},\n",
              " '1007': {'category': 'Condiments',\n",
              "  'expDate': '01/07/2021',\n",
              "  'mfdDate': '01/07/2019',\n",
              "  'name': 'Rice',\n",
              "  'price': 430,\n",
              "  'quantity': 1000},\n",
              " '1008': {'category': 'Condiments',\n",
              "  'expDate': '01/11/2021',\n",
              "  'mfdDate': '01/11/2020',\n",
              "  'name': 'Oil',\n",
              "  'price': 250,\n",
              "  'quantity': 580},\n",
              " '1009': {'category': 'Toiletries',\n",
              "  'expDate': '01/04/2022',\n",
              "  'mfdDate': '01/03/2020',\n",
              "  'name': 'Perfumes',\n",
              "  'price': 499,\n",
              "  'quantity': 80},\n",
              " '1010': {'category': 'Condiments',\n",
              "  'expDate': '01/12/2021',\n",
              "  'mfdDate': '01/08/2021',\n",
              "  'name': 'Sugar',\n",
              "  'price': 80,\n",
              "  'quantity': 700},\n",
              " '1011': {'category': 'Condiments',\n",
              "  'expDate': '01/10/2021',\n",
              "  'mfdDate': '01/05/2021',\n",
              "  'name': 'Salt',\n",
              "  'price': 75,\n",
              "  'quantity': 800},\n",
              " '1012': {'category': 'Bakery',\n",
              "  'expDate': '10/09/2021',\n",
              "  'mfdDate': '01/09/2021',\n",
              "  'name': 'Bread',\n",
              "  'price': 60,\n",
              "  'quantity': 30},\n",
              " '1013': {'category': 'Dairy',\n",
              "  'expDate': '01/03/2022',\n",
              "  'mfdDate': '01/12/2021',\n",
              "  'name': 'Butter',\n",
              "  'price': 230,\n",
              "  'quantity': 65},\n",
              " '1014': {'category': 'Dairy',\n",
              "  'expDate': '01/07/2021',\n",
              "  'mfdDate': '01/04/2021',\n",
              "  'name': 'Cheese',\n",
              "  'price': 250,\n",
              "  'quantity': 80},\n",
              " '1015': {'category': 'Condiments',\n",
              "  'expDate': '01/02/2021',\n",
              "  'mfdDate': '01/02/2020',\n",
              "  'name': 'Spices',\n",
              "  'price': 599,\n",
              "  'quantity': 420},\n",
              " '1016': {'category': 'Dairy',\n",
              "  'expDate': '08/09/2021',\n",
              "  'mfdDate': '06/09/2021',\n",
              "  'name': 'Milk',\n",
              "  'price': 55,\n",
              "  'quantity': 250},\n",
              " '1017': {'category': 'Condiments',\n",
              "  'expDate': '01/10/2021',\n",
              "  'mfdDate': '01/04/2021',\n",
              "  'name': 'Ketchup',\n",
              "  'price': 195,\n",
              "  'quantity': 70},\n",
              " '1018': {'category': 'Condiments',\n",
              "  'expDate': '01/06/2021',\n",
              "  'mfdDate': '01/05/2021',\n",
              "  'name': 'Sauce',\n",
              "  'price': 145,\n",
              "  'quantity': 70},\n",
              " '1019': {'category': 'Toiletries',\n",
              "  'expDate': '01/12/2020',\n",
              "  'mfdDate': '01/08/2019',\n",
              "  'name': 'Detergent',\n",
              "  'price': 75,\n",
              "  'quantity': 45},\n",
              " '1020': {'category': 'Snacks',\n",
              "  'expDate': '01/10/2021',\n",
              "  'mfdDate': '01/09/2021',\n",
              "  'name': 'Cookies',\n",
              "  'price': 459,\n",
              "  'quantity': 60},\n",
              " '1021': {'category': 'Other',\n",
              "  'expDate': '01/03/2022',\n",
              "  'mfdDate': '01/03/2021',\n",
              "  'name': 'Tea Powder',\n",
              "  'price': 199,\n",
              "  'quantity': 500},\n",
              " '1022': {'category': 'Other',\n",
              "  'expDate': '01/02/2022',\n",
              "  'mfdDate': '01/03/2021',\n",
              "  'name': 'Coffee Powder',\n",
              "  'price': 199,\n",
              "  'quantity': 500},\n",
              " '1023': {'category': 'Dairy',\n",
              "  'expDate': '01/10/2022',\n",
              "  'mfdDate': '01/09/2021',\n",
              "  'name': 'Yogurt',\n",
              "  'price': 95,\n",
              "  'quantity': 40},\n",
              " '1024': {'category': 'Toiletries',\n",
              "  'expDate': '01/01/2023',\n",
              "  'mfdDate': '01/01/2021',\n",
              "  'name': 'Tissues',\n",
              "  'price': 99,\n",
              "  'quantity': 400},\n",
              " '1025': {'category': 'Other',\n",
              "  'expDate': '01/12/2021',\n",
              "  'mfdDate': '01/04/2021',\n",
              "  'name': 'Jam',\n",
              "  'price': 350,\n",
              "  'quantity': 50},\n",
              " '1026': {'category': 'Dairy',\n",
              "  'expDate': '10/08/2021',\n",
              "  'mfdDate': '01/08/2021',\n",
              "  'name': 'Eggs',\n",
              "  'price': 75,\n",
              "  'quantity': 500},\n",
              " '1027': {'category': 'Drinks',\n",
              "  'expDate': '01/10/2021',\n",
              "  'mfdDate': '01/08/2021',\n",
              "  'name': 'Juice',\n",
              "  'price': 190,\n",
              "  'quantity': 40},\n",
              " '1028': {'category': 'Drinks',\n",
              "  'expDate': '01/10/2021',\n",
              "  'mfdDate': '01/08/2021',\n",
              "  'name': 'Soda',\n",
              "  'price': 55,\n",
              "  'quantity': 37},\n",
              " '1029': {'category': 'Drinks',\n",
              "  'expDate': '01/10/2021',\n",
              "  'mfdDate': '01/08/2021',\n",
              "  'name': 'Cold Drinks',\n",
              "  'price': 190,\n",
              "  'quantity': 102},\n",
              " '1030': {'category': 'Condiments',\n",
              "  'expDate': '01/11/2021',\n",
              "  'mfdDate': '01/07/2019',\n",
              "  'name': 'Flour',\n",
              "  'price': 230,\n",
              "  'quantity': 850},\n",
              " '1031': {'category': 'Condiments',\n",
              "  'expDate': '06/11/2021',\n",
              "  'mfdDate': '18/12/2020',\n",
              "  'name': 'Vinegar',\n",
              "  'price': 49,\n",
              "  'quantity': 70},\n",
              " '1032': {'category': 'Snacks',\n",
              "  'expDate': '11/12/2022',\n",
              "  'mfdDate': '06/05/202',\n",
              "  'name': 'Pasta',\n",
              "  'price': 50,\n",
              "  'quantity': 60}}"
            ]
          },
          "metadata": {},
          "execution_count": 123
        }
      ]
    },
    {
      "cell_type": "markdown",
      "metadata": {
        "id": "OuVjN24gRQZv"
      },
      "source": [
        "# **Update Inventory after Purchase**"
      ]
    },
    {
      "cell_type": "code",
      "metadata": {
        "id": "ffrcuMYpibDN"
      },
      "source": [
        "#update records.json file  \n",
        "js = json.dumps(rec_dict)   # dict to json\n",
        "fd = open(\"records.json\",'w')\n",
        "fd.write(js)\n",
        "fd.close()"
      ],
      "execution_count": 124,
      "outputs": []
    },
    {
      "cell_type": "markdown",
      "metadata": {
        "id": "Na7fS0zkRZlk"
      },
      "source": [
        "# **Sales Detail**"
      ]
    },
    {
      "cell_type": "code",
      "metadata": {
        "id": "wD-Bh7dm_VR0"
      },
      "source": [
        "sales[(len(sales) + 1)] = {'prod_id' : u_pid, 'quan' : u_quant, 'amount': rec_dict[u_pid]['quantity'], 'transaction_date': curr_time}"
      ],
      "execution_count": 125,
      "outputs": []
    },
    {
      "cell_type": "code",
      "metadata": {
        "colab": {
          "base_uri": "https://localhost:8080/",
          "height": 137
        },
        "id": "XPDMynIL_ZkR",
        "outputId": "5e4caacb-642d-4842-e626-a50d17338ba9"
      },
      "source": [
        "sale_js = json.dumps(sales)\n",
        "sale_js"
      ],
      "execution_count": 126,
      "outputs": [
        {
          "output_type": "execute_result",
          "data": {
            "application/vnd.google.colaboratory.intrinsic+json": {
              "type": "string"
            },
            "text/plain": [
              "'{\"1\": {\"prod_id\": \"1031\", \"quan\": 10, \"amount\": 490}, \"2\": {\"prod_id\": \"1031\", \"quan\": 10, \"amount\": 490}, \"3\": {\"prod_id\": \"1031\", \"quan\": 10, \"amount\": 490}, \"4\": {\"prod_id\": \"1031\", \"quan\": 1, \"amount\": 49, \"transaction_date\": \"Mon Sep  6 15:38:15 2021\"}, \"5\": {\"prod_id\": \"1031\", \"quan\": 10, \"amount\": 490, \"transaction_date\": \"Mon Sep  6 15:50:15 2021\"}, \"6\": {\"prod_id\": \"1003\", \"quan\": 5, \"amount\": 175, \"transaction_date\": \"Mon Sep  6 15:55:11 2021\"}, \"7\": {\"prod_id\": \"1006\", \"quan\": 50, \"amount\": 250, \"transaction_date\": \"2021-09-06 16:01:20.376699\"}, \"8\": {\"prod_id\": \"1006\", \"quan\": 45, \"amount\": 255, \"transaction_date\": \"Mon Sep  6 16:29:19 2021\"}, \"9\": {\"prod_id\": \"1013\", \"quan\": 5, \"amount\": 65, \"transaction_date\": \"Mon Sep  6 16:40:13 2021\"}}'"
            ]
          },
          "metadata": {},
          "execution_count": 126
        }
      ]
    },
    {
      "cell_type": "code",
      "metadata": {
        "id": "n_A1bF-D_br5"
      },
      "source": [
        "fd = open(\"sales.json\",'w')\n",
        "fd.write(sale_js)\n",
        "fd.close()"
      ],
      "execution_count": 127,
      "outputs": []
    }
  ]
}